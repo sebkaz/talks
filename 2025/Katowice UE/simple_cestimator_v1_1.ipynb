{
 "cells": [
  {
   "cell_type": "markdown",
   "metadata": {},
   "source": [
    "# A Simple Classical Estimator\n",
    "\n",
    "_This notebook explores the creation and use of a classical estimator in **PyTorch** to compare against **PennyLane**_.\n",
    "\n",
    "**By:** Sebastian Zając ([website](https://sebastianzajac.pl/))<br>\n",
    "**Date:** 6 April 2025<br>\n",
    "**Updates:** 6 April 2025<br>\n",
    "**Aims:** To develop a simple neural network classical estimator in PyTorch.<br/>\n",
    "**License:** \n",
    "This project is licensed under the [Creative Commons CC-BY](https://creativecommons.org/licenses/by/4.0/)<br>\n",
    "**Changes:** All changes to this code must be listed at the bottom of this notebook"
   ]
  },
  {
   "cell_type": "code",
   "execution_count": 1,
   "metadata": {},
   "outputs": [],
   "source": [
    "import os\n",
    "import numpy as nnp\n",
    "import pandas as pd\n",
    "from IPython.display import clear_output\n",
    "import pennylane as qml\n",
    "from pennylane import numpy as np\n",
    "from pennylane import NesterovMomentumOptimizer\n",
    "from torch import nn\n",
    "from torch.autograd import Variable\n",
    "import torch\n",
    "\n",
    "import matplotlib.pyplot as plt\n",
    "from matplotlib import set_loglevel\n",
    "set_loglevel(\"warning\")\n",
    "\n",
    "import warnings\n",
    "warnings.filterwarnings(\"ignore\")\n",
    "\n",
    "%matplotlib inline"
   ]
  },
  {
   "cell_type": "markdown",
   "metadata": {},
   "source": [
    "Data set :\n",
    "- <a href=\"https://www.kaggle.com/datasets/mlg-ulb/creditcardfraud/data\" target=\"_blank\">Credit Card Fraud Detection</a>:\n",
    "\n",
    "The dataset contains transactions made by credit cards in September 2013 by European cardholders.\n",
    "This dataset presents transactions that occurred in two days, where we have 492 frauds out of 284,807 transactions. The dataset is highly unbalanced, the positive class (frauds) account for 0.172% of all transactions.\n",
    "\n",
    "It contains only numerical input variables which are the result of a PCA transformation. Unfortunately, due to confidentiality issues, we cannot provide the original features and more background information about the data. Features V1, V2, … V28 are the principal components obtained with PCA, the only features which have not been transformed with PCA are 'Time' and 'Amount'. Feature 'Time' contains the seconds elapsed between each transaction and the first transaction in the dataset. The feature 'Amount' is the transaction Amount, this feature can be used for example-dependant cost-sensitive learning. Feature 'Class' is the response variable and it takes value 1 in case of fraud and 0 otherwise.\n",
    "\n",
    "Given the class imbalance ratio, we recommend measuring the accuracy using the Area Under the Precision-Recall Curve (AUPRC). Confusion matrix accuracy is not meaningful for unbalanced classification. \n",
    "  \n",
    "_**Data prepared according to the following objectives:**_\n",
    "\n",
    "- *Fetch and understand data*\n",
    "- *Select numeric variables only (not needed)*\n",
    "- *Deal with missing values (not needed)*\n",
    "- *Analyse the target*\n",
    "- *Standardise predictors*\n",
    "- *Reduce dimensionality using PCA*"
   ]
  },
  {
   "cell_type": "code",
   "execution_count": 2,
   "metadata": {},
   "outputs": [
    {
     "name": "stdout",
     "output_type": "stream",
     "text": [
      "['credit.csv']\n"
     ]
    }
   ],
   "source": [
    "print(os.listdir('../dane'))"
   ]
  },
  {
   "cell_type": "code",
   "execution_count": 3,
   "metadata": {},
   "outputs": [],
   "source": [
    "CREDIT_DIR = '../dane'\n",
    "CREDIT_FILE = 'credit.csv'\n",
    "path = os.path.join(CREDIT_DIR, CREDIT_FILE)\n",
    "df = pd.read_csv(path)"
   ]
  },
  {
   "cell_type": "code",
   "execution_count": 4,
   "metadata": {},
   "outputs": [],
   "source": [
    "from sklearn.preprocessing import MinMaxScaler, RobustScaler\n",
    "from imblearn.under_sampling import RandomUnderSampler"
   ]
  },
  {
   "cell_type": "code",
   "execution_count": 5,
   "metadata": {},
   "outputs": [],
   "source": [
    "df1 = df.copy()\n",
    "\n",
    "#Feature Scaling\n",
    "rob_scaler = RobustScaler()\n",
    "\n",
    "df1['scaled_time'] = rob_scaler.fit_transform(df1['Time'].values.reshape(-1,1))\n",
    "df1['scaled_amount'] = rob_scaler.fit_transform(df1['Amount'].values.reshape(-1,1))\n",
    "df1.drop(['Time','Amount'], axis=1, inplace=True)\n",
    "\n",
    "scaled_amount = df1['scaled_amount']\n",
    "scaled_time = df1['scaled_time']\n",
    "\n",
    "#scaled_amount and scaled_time are added to the starting of the dataframe\n",
    "df1.drop(['scaled_amount', 'scaled_time'], axis=1, inplace=True)\n",
    "\n",
    "df1.insert(0, 'scaled_amount', scaled_amount)\n",
    "df1.insert(1, 'scaled_time', scaled_time)"
   ]
  },
  {
   "cell_type": "code",
   "execution_count": 6,
   "metadata": {},
   "outputs": [],
   "source": [
    "X = df1.drop(columns=['Class'])\n",
    "y = df1['Class']"
   ]
  },
  {
   "cell_type": "code",
   "execution_count": 7,
   "metadata": {},
   "outputs": [],
   "source": [
    "x_angle_margin = 0.1\n",
    "x_angle_min = 0+x_angle_margin\n",
    "x_angle_max = nnp.pi-x_angle_margin\n",
    "angle_scaler = MinMaxScaler(feature_range=(x_angle_min, x_angle_max)) \n",
    "scaled = angle_scaler.fit_transform(X) \n",
    "X = pd.DataFrame(scaled, columns=X.columns)"
   ]
  },
  {
   "cell_type": "code",
   "execution_count": 9,
   "metadata": {},
   "outputs": [],
   "source": [
    "# Apply random undersampling\n",
    "undersampler = RandomUnderSampler(random_state=42)\n",
    "X_resampled, y_resampled = undersampler.fit_resample(X, y)\n",
    "\n",
    "df_res = pd.DataFrame(X_resampled, columns=X.columns)\n",
    "df_res['Class'] = y_resampled"
   ]
  },
  {
   "cell_type": "code",
   "execution_count": 10,
   "metadata": {},
   "outputs": [],
   "source": [
    "X = df_res.drop(columns=['Class'])\n",
    "y = df_res['Class']"
   ]
  },
  {
   "cell_type": "code",
   "execution_count": 11,
   "metadata": {},
   "outputs": [
    {
     "name": "stdout",
     "output_type": "stream",
     "text": [
      "Shapes: X_train=(787, 30), X_test=(197, 30), y_train=(787,), y_test=(197,)\n"
     ]
    }
   ],
   "source": [
    "seed = 2025\n",
    "n_data = X.shape[0]\n",
    "\n",
    "from sklearn.model_selection import train_test_split\n",
    "\n",
    "X_train, X_test, y_train, y_test = train_test_split(X, y, \n",
    "    test_size=0.2, shuffle=False, random_state=seed)\n",
    "print(f'Shapes: X_train={X_train.shape}, X_test={X_test.shape}, y_train={y_train.shape}, y_test={y_test.shape}')"
   ]
  },
  {
   "cell_type": "code",
   "execution_count": 12,
   "metadata": {},
   "outputs": [],
   "source": [
    "### Change the data format to tensors\n",
    "import torch\n",
    "\n",
    "X_train_tens = torch.tensor(nnp.array(X_train), dtype=torch.double)\n",
    "y_train_tens = torch.tensor(nnp.array(y_train), dtype=torch.double).view(-1,1)\n",
    "X_test_tens  = torch.tensor(nnp.array(X_test), dtype=torch.double)\n",
    "y_test_tens  = torch.tensor(nnp.array(y_test), dtype=torch.double).view(-1,1)"
   ]
  },
  {
   "cell_type": "code",
   "execution_count": 13,
   "metadata": {},
   "outputs": [],
   "source": [
    "from torch import nn\n",
    "\n",
    "class Classic_NN(nn.Module):\n",
    "\n",
    "    def __init__(self, in_shape, out_shape):\n",
    "        super(Classic_NN, self).__init__()\n",
    "        layers = self.layers(in_shape, out_shape)\n",
    "        self.model = nn.Sequential(*layers)\n",
    "        \n",
    "    def layers(self, in_shape, out_shape):\n",
    "        \n",
    "        clayer_0 = torch.nn.Linear(in_shape, 64)\n",
    "        clayer_1 = torch.nn.ReLU()\n",
    "        clayer_2 = torch.nn.Linear(64, 32)\n",
    "        clayer_3 = torch.nn.ReLU()\n",
    "        clayer_4 = torch.nn.Linear(32, 18)\n",
    "        clayer_5 = torch.nn.ReLU()\n",
    "        clayer_6 = torch.nn.Linear(18, 8)\n",
    "        clayer_7 = torch.nn.ReLU()\n",
    "        clayer_8 = torch.nn.Linear(8, out_shape)\n",
    "        clayer_9 = torch.nn.Sigmoid()\n",
    "        \n",
    "        layers = [clayer_0, clayer_1, clayer_2, clayer_3, clayer_4,\n",
    "                  clayer_5, clayer_6, clayer_7, clayer_8, clayer_9]\n",
    "        return layers\n",
    "\n",
    "    def forward(self, x):\n",
    "        x = self.model(x)\n",
    "        return x"
   ]
  },
  {
   "cell_type": "code",
   "execution_count": 14,
   "metadata": {},
   "outputs": [],
   "source": [
    "### Performance measures\n",
    "\n",
    "### A simple MSE cost function\n",
    "def square_mse(labels, predictions):\n",
    "    sq_diffs = torch.tensor([(l - p)**2 for l, p in zip(labels, predictions)])\n",
    "    return sq_diffs.mean().item()\n",
    "\n",
    "### Calculates accuracy from expval predictions\n",
    "def accuracy(labels, predictions, prec=1e-5):\n",
    "    acc = sum(abs(l - p) < prec for l, p in zip(labels, predictions))\n",
    "    acc = acc / len(labels)\n",
    "    return acc.item()\n",
    "\n",
    "### Counts the number of pytorch model parameters\n",
    "def count_params(model):\n",
    "    return sum(p.numel() for p in model.parameters() if p.requires_grad)"
   ]
  },
  {
   "cell_type": "code",
   "execution_count": 15,
   "metadata": {},
   "outputs": [
    {
     "data": {
      "text/plain": [
       "torch.Size([787, 30])"
      ]
     },
     "execution_count": 15,
     "metadata": {},
     "output_type": "execute_result"
    }
   ],
   "source": [
    "X_train_tens.shape"
   ]
  },
  {
   "cell_type": "code",
   "execution_count": 16,
   "metadata": {},
   "outputs": [
    {
     "name": "stdout",
     "output_type": "stream",
     "text": [
      "\n",
      "CM weights: 4819, Epochs: 400\n"
     ]
    },
    {
     "data": {
      "text/plain": [
       "Classic_NN(\n",
       "  (model): Sequential(\n",
       "    (0): Linear(in_features=30, out_features=64, bias=True)\n",
       "    (1): ReLU()\n",
       "    (2): Linear(in_features=64, out_features=32, bias=True)\n",
       "    (3): ReLU()\n",
       "    (4): Linear(in_features=32, out_features=18, bias=True)\n",
       "    (5): ReLU()\n",
       "    (6): Linear(in_features=18, out_features=8, bias=True)\n",
       "    (7): ReLU()\n",
       "    (8): Linear(in_features=8, out_features=1, bias=True)\n",
       "    (9): Sigmoid()\n",
       "  )\n",
       ")"
      ]
     },
     "execution_count": 16,
     "metadata": {},
     "output_type": "execute_result"
    }
   ],
   "source": [
    "epochs = 400\n",
    "test = Classic_NN(in_shape=X_train_tens.shape[1], out_shape=1).double()\n",
    "\n",
    "print(f'\\nCM weights: {count_params(test)}, Epochs: {epochs}')\n",
    "#print(f'\\nTest results: {test(X_train_tens)}\\n')\n",
    "test.eval()"
   ]
  },
  {
   "cell_type": "code",
   "execution_count": 17,
   "metadata": {},
   "outputs": [],
   "source": [
    "torch_device = \"cpu\""
   ]
  },
  {
   "cell_type": "code",
   "execution_count": 18,
   "metadata": {},
   "outputs": [],
   "source": [
    "import time\n",
    "import copy\n",
    "\n",
    "def train_model(model, X, y, cost_fun, acc_fun, optimizer, epochs, \n",
    "                    log_interv=100, prompt_fract=0.1, acc_prec=0.5, start_time=0):\n",
    "    \n",
    "    history = []\n",
    "    acc_hist = []\n",
    "    opt_params = {}\n",
    "    hist_params = []\n",
    "    min_epoch = 0\n",
    "    min_cost = 1000\n",
    "    max_acc = -1000\n",
    "    if start_time == 0: start_time = time.time()\n",
    "    \n",
    "    model.train()\n",
    "    for epoch in range(epochs):\n",
    "        \n",
    "        optimizer.zero_grad()\n",
    "        output = model(X)\n",
    "        cost = cost_fun(output, y)\n",
    "        acc = acc_fun(output, y, prec=acc_prec)\n",
    "        cost.backward()\n",
    "        optimizer.step()\n",
    "\n",
    "        curr_cost = cost.item()\n",
    "        curr_acc = acc\n",
    "        if curr_cost < min_cost: \n",
    "            min_cost = curr_cost\n",
    "            min_epoch = epoch\n",
    "            opt_params = copy.deepcopy(model.state_dict())\n",
    "\n",
    "        if curr_acc > max_acc:\n",
    "            max_acc = curr_acc\n",
    "\n",
    "        if epoch % log_interv == 0:\n",
    "            history.append(curr_cost)\n",
    "            acc_hist.append(curr_acc)\n",
    "            hist_params.append(copy.deepcopy(model.state_dict()))\n",
    "\n",
    "        elapsed = time.time() - start_time\n",
    "        if (prompt_fract == 0) or (epoch % int(prompt_fract*epochs) == 0):\n",
    "            print(f'{epoch: 5d} '+ \\\n",
    "                  f'({elapsed:06.0f} sec): '+ \\\n",
    "                  f'Cost {curr_cost:6.4g}   '+ \\\n",
    "                  f'Acc {curr_acc:6.4g}')\n",
    "            \n",
    "    return history, acc_hist, opt_params, hist_params, (min_epoch, min_cost)"
   ]
  },
  {
   "cell_type": "code",
   "execution_count": 20,
   "metadata": {},
   "outputs": [
    {
     "name": "stdout",
     "output_type": "stream",
     "text": [
      "\n",
      "    0 (000000 sec): Cost 0.6747   Acc 0.6252\n",
      "   40 (000000 sec): Cost 0.5714   Acc 0.6252\n",
      "   80 (000000 sec): Cost 0.2866   Acc 0.9212\n",
      "  120 (000001 sec): Cost 0.1548   Acc 0.9377\n",
      "  160 (000001 sec): Cost 0.1294   Acc 0.9466\n",
      "  200 (000001 sec): Cost 0.1232   Acc 0.9479\n",
      "  240 (000001 sec): Cost   0.12   Acc 0.9504\n",
      "  280 (000002 sec): Cost 0.1177   Acc 0.9543\n",
      "  320 (000002 sec): Cost 0.1161   Acc 0.9568\n",
      "  360 (000002 sec): Cost 0.1141   Acc 0.9555\n",
      "\n",
      "Training completed: epochs=400 in 2sec (00:00:02)\n",
      "\tmin BCE = 0.1128 @ 0398, max ACC = 0.9568 @ 0318\n"
     ]
    }
   ],
   "source": [
    "### Ensure repeatability\n",
    "torch.manual_seed(seed)\n",
    "torch.cuda.manual_seed(seed)\n",
    "torch.backends.cudnn.deterministic = True\n",
    "torch.backends.cudnn.benchmark = False\n",
    "\n",
    "log_interv = 1   # History to be saved only once every interv or epochs\n",
    "acc_prec = 0.5   # Precision of accuracy calculation\n",
    "\n",
    "### Create a model\n",
    "q_auto = Classic_NN(in_shape=X_train_tens.shape[1], out_shape=1).double().to(torch_device)\n",
    "\n",
    "### Loss and optimiser\n",
    "cost_fun = torch.nn.BCELoss()\n",
    "\n",
    "# opt = optim.SGD(model.parameters(),lr=0.01,weight_decay=1e-5)\n",
    "opt = torch.optim.Adam(q_auto.parameters())\n",
    "#opt = torch.optim.NAdam(q_auto.parameters(), lr=0.01)\n",
    "\n",
    "### Train the model\n",
    "print()\n",
    "\n",
    "prompt_fract = 0.1\n",
    "start_time = time.time()\n",
    "train_mse_hist, train_acc_hist, opt_params, hist_params, opt_point = \\\n",
    "    train_model(q_auto, X_train_tens, y_train_tens, cost_fun, accuracy, opt, epochs, \n",
    "                log_interv=log_interv, prompt_fract=prompt_fract, acc_prec=acc_prec)\n",
    "elapsed = time.time() - start_time\n",
    "\n",
    "### Print the training summary\n",
    "train_min_mse = np.min(train_mse_hist)\n",
    "train_min_mse_iter = np.argmin(train_mse_hist)\n",
    "train_max_acc = np.max(train_acc_hist)\n",
    "train_max_acc_iter = np.argmax(train_acc_hist)\n",
    "\n",
    "time_str = time.strftime(\"%H:%M:%S\", time.gmtime(elapsed))\n",
    "print(f'\\nTraining completed: epochs={epochs} '+\\\n",
    "      f'in {elapsed:0.0f}sec ({time_str})\\n\\t'+\n",
    "      f'min BCE = {np.round(train_min_mse, 5):05.4f} @ {train_min_mse_iter:04d}, '+\n",
    "      f'max ACC = {np.round(train_max_acc, 5):05.4f} @ {train_max_acc_iter:04d}')"
   ]
  },
  {
   "cell_type": "code",
   "execution_count": 21,
   "metadata": {},
   "outputs": [
    {
     "name": "stdout",
     "output_type": "stream",
     "text": [
      "\n",
      "Completed calculation of testing scores\n",
      "\n",
      "Summary of model training run\n",
      "\n",
      "\tparams = 4819, epochs = 400, time = 2sec (00:00:02)\n",
      "\ttraining: BCE = 0.1128 @ 0398, ACC = 0.9568 @ 0318\n",
      "\ttesting:  BCE = 0.1113 @ 0355, ACC = 0.8680 @ 0260\n",
      "\t\n",
      "\n"
     ]
    }
   ],
   "source": [
    "### Accumulate test scores\n",
    "test_mse_hist = []\n",
    "test_acc_hist = []\n",
    "\n",
    "### Initialise testing loss and accuracy\n",
    "test_min_mse = 1000\n",
    "test_min_mse_iter = -1\n",
    "test_max_acc = 0\n",
    "test_max_acc_iter = -1\n",
    "\n",
    "### Calculate testing loss and accuracy\n",
    "for iter in range(len(hist_params)):\n",
    "    q_auto.load_state_dict(hist_params[iter])\n",
    "    test_pred = q_auto(X_test_tens)\n",
    "    curr_acc = accuracy(y_test_tens, test_pred, prec=acc_prec)\n",
    "    curr_cost = square_mse(y_test_tens, test_pred)\n",
    "    test_acc_hist.append(curr_acc)\n",
    "    test_mse_hist.append(curr_cost)\n",
    "    if curr_acc > test_max_acc:\n",
    "        test_max_acc = curr_acc\n",
    "        test_max_acc_iter = iter\n",
    "    if curr_cost < test_min_mse:\n",
    "        test_min_mse = curr_cost\n",
    "        test_min_mse_iter = iter\n",
    "\n",
    "### Run summary\n",
    "time_str = time.strftime(\"%H:%M:%S\", time.gmtime(elapsed))\n",
    "print('\\nCompleted calculation of testing scores\\n\\nSummary of model training run\\n\\n\\t'+\n",
    "      f'params = {count_params(q_auto)}, '+\n",
    "      f'epochs = {epochs}, '+\n",
    "      f'time = {elapsed:0.0f}sec ({time_str})\\n\\t'+\n",
    "      f'training: BCE = {np.round(train_min_mse, 5):05.4f} @ {train_min_mse_iter:04d}, '+\n",
    "      f'ACC = {np.round(train_max_acc, 5):05.4f} @ {train_max_acc_iter:04d}\\n\\t'+\n",
    "      f'testing:  BCE = {np.round(test_min_mse, 5):05.4f} @ {test_min_mse_iter:04d}, '+\n",
    "      f'ACC = {np.round(test_max_acc, 5):05.4f} @ {test_max_acc_iter:04d}\\n\\t'+\n",
    "      '\\n'\n",
    "     )"
   ]
  },
  {
   "cell_type": "code",
   "execution_count": 22,
   "metadata": {},
   "outputs": [],
   "source": [
    "### Import utilities\n",
    "from utilities import multi_plot_hist, multi_plot_series, draw_circuit"
   ]
  },
  {
   "cell_type": "code",
   "execution_count": 24,
   "metadata": {},
   "outputs": [
    {
     "data": {
      "image/png": "[encoded data removed]",
      "text/plain": [
       "<Figure size 1200x600 with 1 Axes>"
      ]
     },
     "metadata": {},
     "output_type": "display_data"
    }
   ],
   "source": [
    "train_label = f'Train: min BCE (cost) = {round(train_min_mse, 5):05.4f} @ {train_min_mse_iter:04d}'\n",
    "test_label =  f'Test:  min BCE (cost) = {round(test_min_mse, 5):05.4f} @ {test_min_mse_iter:04d}'\n",
    "multi_plot_series(\n",
    "    [train_mse_hist, test_mse_hist], X_list=[0, 0], labels=[train_label, test_label], \n",
    "    lines=['solid', 'solid'], # colors=None, markers=None, marker_colors=None,\n",
    "    rcParams=(12, 6), xlabel='Training iterations', ylabel='BCE cost',\n",
    "    legend_cols=1, smooth_weight=0.6, title='Classifier training performance')"
   ]
  },
  {
   "cell_type": "code",
   "execution_count": null,
   "metadata": {},
   "outputs": [],
   "source": []
  }
 ],
 "metadata": {
  "kernelspec": {
   "display_name": ".venv",
   "language": "python",
   "name": "python3"
  },
  "language_info": {
   "codemirror_mode": {
    "name": "ipython",
    "version": 3
   },
   "file_extension": ".py",
   "mimetype": "text/x-python",
   "name": "python",
   "nbconvert_exporter": "python",
   "pygments_lexer": "ipython3",
   "version": "3.11.11"
  }
 },
 "nbformat": 4,
 "nbformat_minor": 2
}
