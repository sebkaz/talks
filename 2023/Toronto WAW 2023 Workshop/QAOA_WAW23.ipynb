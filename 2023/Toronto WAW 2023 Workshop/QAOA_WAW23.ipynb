{
 "cells": [
  {
   "attachments": {},
   "cell_type": "markdown",
   "id": "6de5f32c-6b62-4585-a749-cf8a9c141180",
   "metadata": {},
   "source": [
    "# Quanutm Computing in the context of graphs and hypergraphs\n",
    "\n",
    "Sebastian Zając"
   ]
  },
  {
   "attachments": {},
   "cell_type": "markdown",
   "id": "417099f2",
   "metadata": {},
   "source": [
    "## Introduction\n",
    "\n",
    "In this tutorial, we show how to solve binary combinatorial optimization problems (Max-Cut) using the **Quantum Approximate Optimization Algorithm (QAOA)**. \n",
    "\n",
    "The main paper on this algorithm is by E. Farhi, J. Goldstone, and S. Gutmann, \"A Quantum Approximate Optimization Algorithm\", arXiv: 1411.4028 (2014).\n",
    "\n",
    "\n",
    "The QAOA algorithm belongs to the class of **hybrid quantum algorithms** that could be run on **noisy intermediate-scale quantum** (NISQ) computers (quantum coprocessors).\n",
    "\n",
    "It is important to say that, given the classical nature of combinatorial problems, the exponential speedup in using quantum computers compared to the best classical algorithms is not guaranteed."
   ]
  },
  {
   "attachments": {},
   "cell_type": "markdown",
   "id": "2c3212fe",
   "metadata": {},
   "source": [
    "### What is Quantum Computing?\n",
    "\n",
    "**Quantum computing** is a multidisciplinary field comprising aspects of computer science, physics, and mathematics that **utilizes quantum mechanics to solve complex problems faster than on classical computers**. \n",
    "\n",
    "**COMPUTER SCIENCE Moore Law** \n",
    "\n",
    "An observation that the number of transistors on microchip roughly doubles every two years, whereas its cost is halved over that same timeframe.\n",
    "\n",
    "**PHYSICS limitations**\n",
    "\n",
    "- transistor size\n",
    "- high power consumpion\n",
    "- heat\n",
    "\n",
    "Quantum computers are able to solve certain types of problems faster than classical computers by taking advantage of quantum mechanical effects, such as `superposition`, `entanglement` and `quantum interference`. \n",
    "\n",
    "Some applications where quantum computers can provide such a speed boost include machine learning, optimization, and simulation of physical systems. \n",
    "\n",
    "<img src=\"img\\nobel.png\" width=300 height=200>"
   ]
  },
  {
   "attachments": {},
   "cell_type": "markdown",
   "id": "23b6c12a",
   "metadata": {},
   "source": [
    "### short history\n",
    "\n",
    "- 1936 A. Turing \"On Computable Numbers,...\" universal computing machine\n",
    "- 1980 P. Benioff - \"The computer as a physical system: ...\" \n",
    "> \"In this paper a microscopic quantum mechanical model of computers as represented by Turing machines is constructed. ...\"\n",
    "- 1981 R. Feynman\n",
    "> Nature isn't classical, dammit, and if you want to make a simulation of nature, you'd better make it quantum mechanical, and by golly, it's a wonderful problem because it doesn't look so easy.\"\"\n",
    "\n",
    "- 1994 Peter Shor \"Algotithm for quantum computation: discrete logarithms and factoring\"\n",
    "- 1996 Lov Grover - \"A fast quantum mechanical algorithm for database search\"\n",
    "- 2000 first 5-qubit QC \n",
    "- 2011 first commercial \"Quantum\" D-Vave Computer\n",
    "- 2019 Quantum supremacy Google \n",
    "> demonstrating that a programmable quantum device can solve a problem that no classical computer can solve in any feasible amount of time.\n",
    "- ...\n",
    "\n",
    "\n",
    "### Quick start \n",
    "\n",
    "- [Quantum lab](https://quantum-computing.ibm.com) - IBM Qiskit Python \n",
    "- [D-Wave](https://www.dwavesys.com/build/getting-started/) - Python\n",
    "- [Xanadu](https://www.xanadu.ai) - Pennylane Python library\n",
    "- [Amazon braket](https://aws.amazon.com/braket/) - AWS Python, Julia\n",
    "- QPoland as part of QWorld - Washington DC/Toronto Quantum Computing Meetup"
   ]
  },
  {
   "attachments": {},
   "cell_type": "markdown",
   "id": "f397574e",
   "metadata": {},
   "source": [
    "## The types of quantum computing models\n",
    "\n",
    "[List of quantum processors](https://en.wikipedia.org/wiki/List_of_quantum_processors)\n",
    "\n",
    "### Quantum annealing\n",
    "\n",
    "QA is an optimization process for finding the global minimum of a given objective function over a given set of candidate solutions.\n",
    "Quantum annealing is used mainly for problems where the search space is discrete (combinatorial optimization problems) with many local minima:\n",
    "- finding the ground state of a spin glass\n",
    "- the traveling salesman problem. \n",
    "\n",
    "D-Wave's architecture differs from traditional quantum computers.\n",
    "\n",
    "It is not known to be polynomially equivalent to a universal quantum computer and, in particular, cannot execute Shor's algorithm because Shor's algorithm is not a hillclimbing process (Shor's algorithm requires a universal quantum computer). \n",
    "\n",
    "\n",
    "### Topological Quantum model \n",
    "\n",
    "Topological quantum computers are equivalent in computational power to other standard models of quantum computation.\n",
    "\n",
    "Certain algorithms may be a more natural fit to the topological quantum computer model. \n",
    "\n",
    "ex: algorithms for evaluating the Jones polynomial were first developed in the topological model, and only later converted and extended in the standard quantum circuit model."
   ]
  },
  {
   "attachments": {},
   "cell_type": "markdown",
   "id": "e220ba59-30fb-4de8-8f39-b3828caaf413",
   "metadata": {},
   "source": [
    "### Gate model \n",
    "\n",
    "Classical computations: \n",
    "\n",
    "<img src=\"img/bramki.png\" width=250 height=200>\n",
    "\n",
    "Quantum computations: \n",
    "\n",
    "![](https://qiskit.org/documentation/_images/quantum_interference.png)\n",
    "\n",
    "When considering quantum circuits, it is often convenient to define them by a series of quantum gates - reversible transformations on the quantum data stored in `qubits`.\n",
    "\n",
    "<img src=\"img/bity.png\" width=400 height=300>\n",
    "\n",
    "<img src=\"img/kubit1.png\" width=250 height=200>"
   ]
  },
  {
   "cell_type": "code",
   "execution_count": null,
   "id": "b0b7d59b",
   "metadata": {},
   "outputs": [],
   "source": [
    "!pip install qiskit -q"
   ]
  },
  {
   "cell_type": "code",
   "execution_count": 4,
   "id": "41ab3843",
   "metadata": {},
   "outputs": [
    {
     "data": {
      "image/png": "[encoded data removed]",
      "text/plain": [
       "<Figure size 287.093x200.667 with 1 Axes>"
      ]
     },
     "execution_count": 4,
     "metadata": {},
     "output_type": "execute_result"
    }
   ],
   "source": [
    "# simple quantum circuit run on simulator\n",
    "\n",
    "from qiskit import QuantumCircuit, QuantumRegister, ClassicalRegister\n",
    "\n",
    "qr = QuantumRegister(1)\n",
    "cr = ClassicalRegister(1)\n",
    "qc = QuantumCircuit(qr, cr)\n",
    "\n",
    "qc.h(qr[0])\n",
    "qc.measure(qr[0], cr[0])\n",
    "\n",
    "\n",
    "qc.draw(\"mpl\")"
   ]
  },
  {
   "cell_type": "code",
   "execution_count": 5,
   "id": "e0e004fa",
   "metadata": {},
   "outputs": [
    {
     "name": "stdout",
     "output_type": "stream",
     "text": [
      "Counts: {'1': 515, '0': 509}\n"
     ]
    }
   ],
   "source": [
    "from qiskit_aer import AerSimulator\n",
    "\n",
    "backend_sim = AerSimulator()\n",
    "\n",
    "# run the circuit\n",
    "rc = backend_sim.run(qc)\n",
    "# get the results\n",
    "rc = rc.result()\n",
    "# retrieve the bitstring counts\n",
    "counts = rc.get_counts()\n",
    "\n",
    "print(f\"Counts: {counts}\")"
   ]
  },
  {
   "cell_type": "code",
   "execution_count": 3,
   "id": "8e3914e4",
   "metadata": {},
   "outputs": [
    {
     "data": {
      "image/png": "[encoded data removed]",
      "text/plain": [
       "<Figure size 700x500 with 1 Axes>"
      ]
     },
     "execution_count": 3,
     "metadata": {},
     "output_type": "execute_result"
    }
   ],
   "source": [
    "from qiskit.visualization import *\n",
    "\n",
    "# plot histogram\n",
    "plot_histogram(counts)"
   ]
  },
  {
   "attachments": {},
   "cell_type": "markdown",
   "id": "f7567bad",
   "metadata": {},
   "source": [
    "Quantum gates are realised by `unitary operators` $U U^{\\dagger} = U^{\\dagger} U = I $ represented by matricies.\n",
    "\n",
    "Each Unitary matrix can be defined as:\n",
    "$$ U(H,t) = e^{-i H t}$$\n",
    "where $H$ is Hemitian matrix ($H=H^{\\dagger}$)\n",
    "\n",
    "In general, implementing a quantum circuit that exactly exponentiates a Hamiltonian with many non-commuting terms, i.e., a Hamiltonian of the form\n",
    "$$ H = H_1 + H_2 + \\dots + H_n$$ \n",
    "is very challenging. Instead, we can use the `Trotter-Suzuki` decomposition formula:\n",
    "$$ e^{A + B} \\approx \\left( e^{A/n} e^{B/n} \\right)^n $$ so \n",
    "for $H=\\sum_k H_k$ we get $$ U(H,t,n) = \\prod_{j=1}^n \\prod_k e^{-i H_k t/n} $$"
   ]
  },
  {
   "attachments": {},
   "cell_type": "markdown",
   "id": "9af8afee",
   "metadata": {},
   "source": [
    "## Quadratic Binary Optimization problems \n",
    "\n",
    "Combinatorial optimization problems are ubiquitous across many areas of science and application areas. \n",
    "\n",
    "- logistics, \n",
    "- scheduling, \n",
    "- planning, \n",
    "- portfolio optimization\n",
    "- ...\n",
    "\n",
    "Combinatorial optimization problems are problems involving a large number of yes/no decisions with each set of decisions yielding a corresponding objective function value, like a cost or profit value.\n",
    "\n",
    "Because of the combinatorial explosion of the solution space with the number of variables, finding good solutions is extremely difficult.\n",
    "\n",
    "The QUBO model unifies a rich variety of NP-hard combinatorial optimization problems:\n",
    "\n",
    "- Quadratic Assignment Problems \n",
    "- Capital Budgeting Problems\n",
    "- Task allocation Problems\n",
    "- Maximum--Cut Problems\n",
    "\n",
    "The QUBO objective function:\n",
    "\n",
    "$$ F(q) = \\sum_a v_a q_a + \\sum_{a < b} \\omega_{a b} q_a q_b $$\n",
    "where $q_a \\in \\{0,1\\}$, $v_a$ and $\\omega_a$ are real coefficients for the linear and quadratic parts. \n",
    "The QUBO objective function is NP-hard in nature.\n",
    "\n",
    "Let's change the variables: $$z_a = 2q_a-1$$ where $z \\in {-1,1}$\n",
    "$$F(z) = \\sum_a h_a z_a + \\sum_{a < b} J_{a b} z_a z_b $$ \n",
    "\n",
    "One popular method of encoding an optimization problem to be solved using QAOA, is to first formulate the problem as an `Ising Objective function`. The Ising model is a popular statistical mechanics model, associated primarily with ferromagnetism. Because it has been shown to be NP-Complete in nature, the objective function associated with it can be used to represent hard problems."
   ]
  },
  {
   "attachments": {},
   "cell_type": "markdown",
   "id": "64d64217",
   "metadata": {},
   "source": [
    "### Max-Cut\n",
    "\n",
    "**Max-Cut** is an NP-complete problem, with applications in clustering, network science, and statistical physics. \n",
    "\n",
    "Given a graph $G(V,E)$, we seek partition of $V$ into two subsets with maximum cut. \n",
    "\n",
    "In short, we have to color every node either blue or red and we score a point whenever an edge connects two nodes with different colors. We then would like to find the solution with the highest score. \n",
    "\n",
    "\n",
    "<img src=\"img\\qaoa_maxcut.png\" height=\"300\" >\n",
    "\n",
    "Again, the problem in this specific graph coloring problem is that there are $2^N$ possible solutions for $N$ nodes (an exponential explosion in possibilities), making it impossible to enumerate all possible candidates for relevant system sizes.\n",
    "\n",
    "The solution of Max-Cut, even if approximate, has practical application in machine scheduling, image recognition or for the layout of electronic circuits.\n",
    "\n",
    "We can encode the `Maximum Cut` problem as a minimization problem of an Ising Hamiltonian, where the (classical) cost function reads:\n",
    "$$ H_C = \\sum_{a < b} J_{a b} z_a z_b $$ \n",
    "\n",
    "Ising matrix $J$ encoding the weights of the edges.\n",
    "\n",
    "In short, the cost Hamiltonian assigns a number to every bitstring $z=(z_1,z_2,\\dots,z_n)$\n",
    ", and we would like to find the lowest number possible. This will be the optimal assignment and solution to our problem."
   ]
  },
  {
   "attachments": {},
   "cell_type": "markdown",
   "id": "2f93912d",
   "metadata": {},
   "source": [
    "It is important to note here that we still don’t know if quantum computing can help solve NP-Complete problems efficiently. \n",
    "Our hope for quantum algorithms, at the very least, is to be able to compete with classical heuristics when it comes to certain classes of hard problems.\n",
    "\n",
    "\n",
    "The quantum Ising Hamiltonian, which naturally maps the Ising objective to qubits:\n",
    "\n",
    "$$\\hat{C} = \\sum_{a < b} J_{a b} \\hat{\\sigma}_a^z \\hat{\\sigma}_b^z $$ \n",
    "which can be written as a matrix of size $(2^N, 2^N)$ with diagonal elements only corresponding to all possible classical values for the cost function $\\hat{C}$.\n",
    "\n",
    "Because qubits are 2-dim vectors $\\sigma_a^z$ correspond to 2x2 matrix with two eigenvalue $\\{1,-1\\}$ and two eigenvectors $$|0> = \\begin{pmatrix} 1 \\\\ 0 \\end{pmatrix}$$\n",
    "$$|1> = \\begin{pmatrix} 0 \\\\ 1 \\end{pmatrix}$$\n",
    "\n",
    "So\n",
    "\n",
    "$$ \\sigma^z = \\begin{pmatrix} 1 & 0 \\\\ 0 & -1 \\end{pmatrix}$$\n",
    "\n",
    "and \n",
    "\n",
    "$$ \\sigma^z_a = \\left( \\otimes_{i=1}^{a-1} I \\right) \\otimes \\left( \\sigma^z \\right) \\otimes \\left(\\otimes_{i=a+1}^{n} I \\right)$$\n",
    "\n",
    "\n",
    "The other type of Hamiltonian in the QAOA process is a summation of individual Pauli X operators for each qubit involved in the process, which intuitively represents $$\\hat{B}=\\sum_a \\sigma^x_a$$ transverse field in the Ising model\n",
    "$$ \\sigma^x = \\begin{pmatrix} 0 & 1 \\\\ 1 & 0 \\end{pmatrix}$$\n",
    "\n",
    "$$ \\sigma^x_a = \\left( \\otimes_{i=1}^{a-1} I \\right) \\otimes \\left( \\sigma^x \\right) \\otimes \\left(\\otimes_{i=a+1}^{n} I \\right)$$\n",
    "\n",
    "The ground state of this Hamiltonian corresponds to the optimal solution of the classical combinatorial problem.\n",
    "\n",
    "Finding this ground state is generically hard."
   ]
  },
  {
   "attachments": {},
   "cell_type": "markdown",
   "id": "149dd8f4",
   "metadata": {},
   "source": [
    "### QAOA proposition \n",
    "\n",
    "To approximate this groundstate, QAOA prepares a parametrized `ansatz state` (corresponding to a parameterized gate sequence), whose parameters are iteratively updated by a classical optimizer in a closed loop.\n",
    "\n",
    "A good approximate solutions to the problem class considered here can be found by preparing the variational state:\n",
    "\n",
    "$$ |\\gamma \\beta > = U_x(\\beta_p) U_{zz}(\\gamma_p) \\dots U_x(\\beta_1) U_{zz}(\\gamma_1) |s> $$\n",
    "\n",
    "where: \n",
    "$$U_x(\\beta) = e^{-i \\beta \\hat{B}}$$\n",
    ",\n",
    "\n",
    "$$U_{zz}(\\gamma) = e^{-i \\gamma \\hat{C}}$$\n",
    "\n",
    "We start initially from a product of $\\sigma^x$ eigenstates: \n",
    "$$|s> = |+> = \\frac{1}{\\sqrt{2}}(|0> + |1>)$$\n",
    "\n",
    "The depth $p$ can be interpreted as a hyperparameter.\n",
    "\n",
    "For $p$ layers of QAOA blocks, there are $2p$  classical parameters to optimize over, since each layer $k$ is characterized by just two variational parameters $\\beta_k \\in [0,\\pi], \\gamma_k \\in [0,2\\pi]$.\n",
    "\n",
    "The next step is to find the optimal parameters $(\\beta_{opt}, \\gamma_{opt})$ such that the expectation value $$ <\\beta_{opt},\\gamma_{opt} | H | \\beta_{opt},\\gamma_{opt}>$$ is minimal\n",
    "\n",
    "<img src=\"img/QAOA_schematic.png\" width=400  >"
   ]
  },
  {
   "attachments": {},
   "cell_type": "markdown",
   "id": "aef4ce1c-3452-46b4-825e-e1acf2a86e78",
   "metadata": {},
   "source": [
    "## Code realization\n",
    "\n",
    "Functional programming breaks down an application into a set of functions. \n",
    "Ideally, functions only take inputs and produce outputs and have no internal state that affects the output produced for a given input.\n",
    "\n",
    "In that sense, the `QAOA algorithm` is a function that solves a `problem` by `optimize`ing a set of `params`. In other words, we aim to find the best values for these params.\n",
    "\n",
    "To decide which params are best, we assess them based on the result we obtain from `compute`ing a (quantum) circuit that uses these params to encode the `problem` (problem_circuit) and its solution (ansatz_circuit).\n",
    "\n",
    "This is what Qiskit’s description refers to as a variational algorithm. \n",
    "\n",
    "It uses a classical optimization algorithm that makes queries to a quantum computer.\n"
   ]
  },
  {
   "cell_type": "code",
   "execution_count": 6,
   "id": "cb4cc04d-adfe-41cd-a0cf-bcbc68e411c2",
   "metadata": {
    "tags": []
   },
   "outputs": [],
   "source": [
    "def qaoa(problem, optimize, assess, compute,\n",
    "  to_circuit, problem_circuit, ansatz_circuit):\n",
    "\n",
    "    return optimize(\n",
    "        lambda params: assess(problem, compute(to_circuit(problem, params,\n",
    "              problem_circuit, ansatz_circuit)))\n",
    "    )"
   ]
  },
  {
   "cell_type": "code",
   "execution_count": 7,
   "id": "ed9ef645-f91d-4de0-b6ff-d18db0d44015",
   "metadata": {
    "tags": []
   },
   "outputs": [
    {
     "ename": "TypeError",
     "evalue": "qaoa() missing 7 required positional arguments: 'problem', 'optimize', 'assess', 'compute', 'to_circuit', 'problem_circuit', and 'ansatz_circuit'",
     "output_type": "error",
     "traceback": [
      "\u001b[0;31m---------------------------------------------------------------------------\u001b[0m",
      "\u001b[0;31mTypeError\u001b[0m                                 Traceback (most recent call last)",
      "Cell \u001b[0;32mIn[7], line 1\u001b[0m\n\u001b[0;32m----> 1\u001b[0m \u001b[43mqaoa\u001b[49m\u001b[43m(\u001b[49m\u001b[43m)\u001b[49m\n",
      "\u001b[0;31mTypeError\u001b[0m: qaoa() missing 7 required positional arguments: 'problem', 'optimize', 'assess', 'compute', 'to_circuit', 'problem_circuit', and 'ansatz_circuit'"
     ]
    }
   ],
   "source": [
    "qaoa()"
   ]
  },
  {
   "cell_type": "code",
   "execution_count": 8,
   "id": "8d4f48cb-195d-49f7-be04-be793bc8f0c3",
   "metadata": {
    "tags": []
   },
   "outputs": [],
   "source": [
    "from qiskit import Aer, execute\n",
    "\n",
    "def compute(circuit):\n",
    "    return execute(circuit, \n",
    "                   Aer.get_backend('qasm_simulator'), \n",
    "                   shots=1000).result().get_counts()"
   ]
  },
  {
   "cell_type": "code",
   "execution_count": 9,
   "id": "9952077d-99c7-4ac9-99d2-3fe40a8f23f8",
   "metadata": {
    "tags": []
   },
   "outputs": [],
   "source": [
    "from qiskit import QuantumCircuit\n",
    "\n",
    "def to_circuit(problem, params, problem_circuit, ansatz_circuit):\n",
    "    \n",
    "    cnt_qubits = problem.size\n",
    "    \n",
    "    qc_qaoa = QuantumCircuit(cnt_qubits)\n",
    "\n",
    "    # initial_state\n",
    "    qc_qaoa.h(range(cnt_qubits))\n",
    "    \n",
    "    # append problem circuit\n",
    "    qc_qaoa.append(problem_circuit(problem, params[0]), range(cnt_qubits))\n",
    "    \n",
    "    # append ansatz circuit\n",
    "    qc_qaoa.append(ansatz_circuit(problem, params[1]), range(cnt_qubits))\n",
    "    qc_qaoa.measure_all()\n",
    "    \n",
    "    return qc_qaoa"
   ]
  },
  {
   "attachments": {},
   "cell_type": "markdown",
   "id": "08a33d47-5d1a-41e6-8f27-f49bc68ecad5",
   "metadata": {},
   "source": [
    "This function takes the `problem` and the `params`.\n",
    "We use the `size` of the problem to determine the number of quantum bits (qubits) in our quantum circuit.\n",
    "\n",
    "A qubit is the basic unit of computation in a quantum computer. \n",
    "Even though its internal state is pretty complicated, when you look at it, it is either 0 or 1 — just like a regular bit.\n",
    "\n",
    "We start with applying the Hadamard gate to all qubits. This puts the qubits into a state where they are equally likely to result in 0 and 1 (superposition state).\n",
    "\n",
    "Then, we append two sub-circuits using the functions `problem_circuit` and `ansatz_circuit`.\n",
    "\n",
    "This is what Qiskit’s explanation refers to as **“the unitary $U(\\beta,\\gamma)$ has a specific form and is composed of two unitaries $U(\\beta)$ and $U(\\gamma)$ ...”**\n",
    "\n",
    "The first function `problem_circuit` adds a quantum circuit representing the problem we aim to solve."
   ]
  },
  {
   "cell_type": "code",
   "execution_count": 10,
   "id": "1c6fc024-a745-4bc1-a4da-856797e77e17",
   "metadata": {},
   "outputs": [],
   "source": [
    "def problem_circuit(problem, gamma):\n",
    "    qc_p = QuantumCircuit(problem.size)\n",
    "    for i, j in problem.relations:\n",
    "        qc_p.rzz(gamma, i, j)\n",
    "        qc_p.barrier()\n",
    "    return qc_p"
   ]
  },
  {
   "attachments": {},
   "cell_type": "markdown",
   "id": "e429c4b0-b6c5-4fec-97f0-1a4ec0b5fc7b",
   "metadata": {},
   "source": [
    "In this case, we loop through all relations in our problem. Apparently, we expect a relation to consist of a pair of integer values (i, j). \n",
    "\n",
    "We apply the rzz gate on the two qubits at these positions. \n",
    "\n",
    "The rzz gate is a parameterized (by parameter gamma) rotation around the ZZ-axis of a two-qubit system."
   ]
  },
  {
   "attachments": {},
   "cell_type": "markdown",
   "id": "7da59228-c4cc-4b6c-a735-ba06217c7d33",
   "metadata": {},
   "source": [
    "The second function ansatz_circuit adds a quantum circuit representing the solution to our problem."
   ]
  },
  {
   "cell_type": "code",
   "execution_count": 11,
   "id": "13198724-e656-45db-aca9-c34fd5c99b77",
   "metadata": {},
   "outputs": [],
   "source": [
    "def ansatz_circuit(problem, beta):\n",
    "    qc_a = QuantumCircuit(problem.size)\n",
    "    for i in range(problem.size):\n",
    "        qc_a.rx(beta, i)\n",
    "    return qc_a"
   ]
  },
  {
   "attachments": {},
   "cell_type": "markdown",
   "id": "52c62590-f55a-4a64-9d4a-936bb916691c",
   "metadata": {},
   "source": [
    "This time, we loop through all parts of our problem and apply the rx gate on the respective qubit. This is a parameterized (by parameter beta) rotation around the X-axis of a qubit."
   ]
  },
  {
   "cell_type": "code",
   "execution_count": 12,
   "id": "2261b256-10fb-411e-8a7d-dede8f80b09e",
   "metadata": {},
   "outputs": [],
   "source": [
    "def assess(problem, result):\n",
    "    avg = 0\n",
    "    sum_count = 0\n",
    "    for solution, count in result.items():\n",
    "        performance = 0\n",
    "        for i, j in problem.relations:\n",
    "            if solution[i] != solution[j]:\n",
    "                performance -= 1\n",
    "\n",
    "        avg += performance * count\n",
    "        sum_count += count\n",
    "    return avg/sum_count"
   ]
  },
  {
   "cell_type": "code",
   "execution_count": 13,
   "id": "4c69cdb6-e4e9-4b4b-a7cb-68c2fa8bcd1e",
   "metadata": {},
   "outputs": [],
   "source": [
    "from scipy.optimize import minimize\n",
    "\n",
    "def optimize(f_params_to_problem):\n",
    "    return minimize(\n",
    "        # callable function\n",
    "        f_params_to_problem,\n",
    "        \n",
    "        # initial guess on beta and gamma\n",
    "        [1.0, 1.0],\n",
    "        \n",
    "        # optimization method\n",
    "        method='COBYLA')"
   ]
  },
  {
   "cell_type": "code",
   "execution_count": 14,
   "id": "ca965c17-f742-4e3a-b62c-46662c64f926",
   "metadata": {
    "tags": []
   },
   "outputs": [],
   "source": [
    "class Problem():\n",
    "    def __init__(self, nodes, relations):\n",
    "        self._nodes = nodes\n",
    "        self._relations = relations\n",
    "    \n",
    "    @property\n",
    "    def size(self) -> int:\n",
    "        return len(self._nodes)\n",
    "    \n",
    "    @property\n",
    "    def relations(self) -> list:\n",
    "        return self._relations\n",
    "    \n",
    "    @property\n",
    "    def nodes(self) -> list:\n",
    "        return self._nodes"
   ]
  },
  {
   "cell_type": "code",
   "execution_count": 15,
   "id": "fa8333dc-f214-456b-85c9-1d0d9775ae14",
   "metadata": {
    "tags": []
   },
   "outputs": [],
   "source": [
    "problem = Problem([0, 1, 2, 3], [(0, 1), (1, 2),(2,3),(3,0)])\n",
    "\n",
    "result = qaoa(\n",
    "  problem, optimize, assess, compute,\n",
    "  to_circuit, problem_circuit, ansatz_circuit\n",
    ")"
   ]
  },
  {
   "cell_type": "code",
   "execution_count": 16,
   "id": "a1271cb9-5ca3-4c3d-8cf5-aec37cb0a311",
   "metadata": {
    "tags": []
   },
   "outputs": [
    {
     "data": {
      "text/plain": [
       " message: Optimization terminated successfully.\n",
       " success: True\n",
       "  status: 1\n",
       "     fun: -2.994\n",
       "       x: [ 2.223e+00  8.540e-01]\n",
       "    nfev: 27\n",
       "   maxcv: 0.0"
      ]
     },
     "execution_count": 16,
     "metadata": {},
     "output_type": "execute_result"
    }
   ],
   "source": [
    "result"
   ]
  },
  {
   "cell_type": "code",
   "execution_count": 17,
   "id": "8d0149d9-4a41-409a-8409-0c7d03cd6131",
   "metadata": {
    "tags": []
   },
   "outputs": [
    {
     "data": {
      "image/png": "[encoded data removed]",
      "text/plain": [
       "<Figure size 700x500 with 1 Axes>"
      ]
     },
     "execution_count": 17,
     "metadata": {},
     "output_type": "execute_result"
    }
   ],
   "source": [
    "from qiskit.visualization import plot_histogram\n",
    "\n",
    "plot_histogram(compute(to_circuit(\n",
    "  problem, result.x, problem_circuit, ansatz_circuit\n",
    ")))"
   ]
  },
  {
   "cell_type": "code",
   "execution_count": 18,
   "id": "c294305a-f621-4698-91da-4fef18a8b7bb",
   "metadata": {},
   "outputs": [
    {
     "data": {
      "image/png": "[encoded data removed]",
      "text/plain": [
       "<Figure size 640x480 with 1 Axes>"
      ]
     },
     "metadata": {},
     "output_type": "display_data"
    }
   ],
   "source": [
    "import networkx as nx\n",
    "graph = nx.Graph()\n",
    "graph.add_nodes_from([0, 1, 2, 3])\n",
    "graph.add_edges_from([(0, 1), (1, 2), (2, 3), (3, 0)])\n",
    "nx.draw(graph, with_labels=True, alpha=0.8, node_size=500)"
   ]
  },
  {
   "cell_type": "code",
   "execution_count": 19,
   "id": "c7e4552a",
   "metadata": {},
   "outputs": [
    {
     "data": {
      "image/png": "[encoded data removed]",
      "text/plain": [
       "<Figure size 203.885x367.889 with 1 Axes>"
      ]
     },
     "execution_count": 19,
     "metadata": {},
     "output_type": "execute_result"
    }
   ],
   "source": [
    "from qiskit import QuantumCircuit, Aer\n",
    "from qiskit.circuit import Parameter\n",
    "\n",
    "adjacency = nx.adjacency_matrix(graph).todense()\n",
    "\n",
    "N_QUBITS = 4\n",
    "\n",
    "beta = Parameter(\"$\\\\beta$\")\n",
    "qc_mix = QuantumCircuit(N_QUBITS)\n",
    "for i in range(N_QUBITS):\n",
    "    qc_mix.rx(beta, i)\n",
    "\n",
    "qc_mix.draw('mpl')"
   ]
  },
  {
   "cell_type": "code",
   "execution_count": 20,
   "id": "48a3abfc-1899-41f9-b04b-b82addd6cf10",
   "metadata": {},
   "outputs": [
    {
     "data": {
      "image/png": "[encoded data removed]",
      "text/plain": [
       "<Figure size 1458.05x367.889 with 1 Axes>"
      ]
     },
     "execution_count": 20,
     "metadata": {},
     "output_type": "execute_result"
    }
   ],
   "source": [
    "gamma = Parameter(\"$\\\\gamma$\")\n",
    "qc_p = QuantumCircuit(N_QUBITS)\n",
    "for pair in list(graph.edges()):  # pairs of nodes\n",
    "    qc_p.rzz(gamma, pair[0], pair[1])\n",
    "    qc_p.barrier()\n",
    "\n",
    "qc_p.decompose().draw('mpl')"
   ]
  },
  {
   "cell_type": "code",
   "execution_count": 21,
   "id": "45596e93",
   "metadata": {},
   "outputs": [
    {
     "data": {
      "image/png": "[encoded data removed]",
      "text/plain": [
       "<Figure size 203.885x367.889 with 1 Axes>"
      ]
     },
     "execution_count": 21,
     "metadata": {},
     "output_type": "execute_result"
    }
   ],
   "source": [
    "qc_0 = QuantumCircuit(N_QUBITS)\n",
    "for i in range(N_QUBITS):\n",
    "    qc_0.h(i)\n",
    "\n",
    "qc_0.draw('mpl')"
   ]
  },
  {
   "cell_type": "code",
   "execution_count": 22,
   "id": "6b745fa0",
   "metadata": {},
   "outputs": [
    {
     "data": {
      "image/png": "[encoded data removed]",
      "text/plain": [
       "<Figure size 1625.27x367.889 with 1 Axes>"
      ]
     },
     "execution_count": 22,
     "metadata": {},
     "output_type": "execute_result"
    }
   ],
   "source": [
    "qc_qaoa = QuantumCircuit(N_QUBITS)\n",
    "qc_qaoa.append(qc_0, range(N_QUBITS))\n",
    "qc_qaoa.append(qc_p, range(N_QUBITS))\n",
    "qc_qaoa.append(qc_mix, range(N_QUBITS))\n",
    "\n",
    "qc_qaoa.decompose().decompose().draw('mpl')"
   ]
  },
  {
   "attachments": {},
   "cell_type": "markdown",
   "id": "97f23b65",
   "metadata": {},
   "source": [
    "## Summary\n",
    "\n",
    "1. For combinatorial optimization, the quantum approximate optimization algorithm (QAOA) briefly had a better approximation ratio than any known polynomial time classical algorithm (for a certain problem)\n",
    "\n",
    "2. The relative speed-up of the quantum algorithm is an open research question\n",
    "\n",
    "3. The heart of QAOA relies on the use of unitary operators dependent on $2p$ angles, where $p>1$ is a hyperparameter.\n",
    "\n",
    "4. A rigorous comparison of QAOA with classical algorithms can give estimates on depth $p$ and number of qubits required for quantum advantage. A study of QAOA and MaxCut algorithm shows that $p>11$ is required for scalable advantage."
   ]
  },
  {
   "cell_type": "code",
   "execution_count": null,
   "id": "b72af9e3",
   "metadata": {},
   "outputs": [],
   "source": []
  },
  {
   "attachments": {},
   "cell_type": "markdown",
   "id": "88c1ba2e-e376-4169-9f98-dc5d061a28ef",
   "metadata": {},
   "source": [
    "## short realization of other problems \n",
    "\n",
    "The Knapsack problem derives from the problem faced by someone constrained by a fixed-size knapsack who must fill it with the most valuable items.\n",
    "\n",
    "Given a set of items, each of which has a cost and a value, determine the number of individual items included in a collection such that the total cost is less than or equal to a given threshold and the total value is as large as possible.\n",
    "\n",
    "\n",
    "### Problem to solve\n",
    "\n",
    "Suppose there are _eight_ different fires. Each fire requires a specific number of firefighters to keep under control. This is the fire’s associated cost. \n",
    "\n",
    "Further, each fire endangers some acres of land. The more it endangers, the better it will be to fight it.\n",
    "\n",
    "The following is everything we need to solve this problem. We make extensive use of Qiskit. That is IBM’s Quantum SDK."
   ]
  },
  {
   "cell_type": "code",
   "execution_count": null,
   "id": "f84ed971-ed65-4e00-96b2-c57247656b3a",
   "metadata": {
    "tags": []
   },
   "outputs": [],
   "source": [
    "!pip install qiskit qiskit_optimization -q"
   ]
  },
  {
   "cell_type": "code",
   "execution_count": 23,
   "id": "1205c93d-958f-4454-a600-5c0acf6200b1",
   "metadata": {
    "tags": []
   },
   "outputs": [
    {
     "name": "stderr",
     "output_type": "stream",
     "text": [
      "/var/folders/sr/zzpxz8494070jx71t4jy3_4m0000gn/T/ipykernel_59890/1708375345.py:17: DeprecationWarning: The class ``qiskit.utils.quantum_instance.QuantumInstance`` is deprecated as of qiskit-terra 0.24.0. It will be removed no earlier than 3 months after the release date. For code migration guidelines, visit https://qisk.it/qi_migration.\n",
      "  quantum_instance=QuantumInstance(Aer.get_backend(\"qasm_simulator\"))\n",
      "/var/folders/sr/zzpxz8494070jx71t4jy3_4m0000gn/T/ipykernel_59890/1708375345.py:16: DeprecationWarning: The class ``qiskit.algorithms.minimum_eigen_solvers.qaoa.QAOA`` is deprecated as of qiskit-terra 0.24.0. It will be removed no earlier than 3 months after the release date. Instead, use the class ``qiskit.algorithms.minimum_eigensolvers.QAOA``. See https://qisk.it/algo_migration for a migration guide.\n",
      "  qaoa_optimizer = MinimumEigenOptimizer(QAOA(\n"
     ]
    },
    {
     "name": "stdout",
     "output_type": "stream",
     "text": [
      "solution: [0, 2, 3, 5]\n",
      "time: 26.55681800842285\n"
     ]
    }
   ],
   "source": [
    "from qiskit.utils import QuantumInstance\n",
    "from qiskit import Aer\n",
    "from qiskit_optimization.applications import Knapsack\n",
    "from qiskit.algorithms import QAOA\n",
    "from qiskit_optimization.algorithms import MinimumEigenOptimizer\n",
    "\n",
    "values=[8, 6, 3, 3, 2, 2, 1, 1]\n",
    "weights=[4, 4, 3, 1, 1, 2, 3, 4]\n",
    "max_weight = 10 # the total number of firefighters — capacity.\n",
    "\n",
    "knapsack = Knapsack(\n",
    "    values= values,\n",
    "    weights = weights,\n",
    "    max_weight=max_weight)\n",
    "\n",
    "qaoa_optimizer = MinimumEigenOptimizer(QAOA(\n",
    "    quantum_instance=QuantumInstance(Aer.get_backend(\"qasm_simulator\"))\n",
    "))\n",
    "\n",
    "result = qaoa_optimizer.solve(\n",
    "    knapsack.to_quadratic_program()\n",
    ")\n",
    "print(\"solution:\", knapsack.interpret(result))\n",
    "print(\"time:\", result.min_eigen_solver_result.optimizer_time)"
   ]
  },
  {
   "attachments": {},
   "cell_type": "markdown",
   "id": "2e78913d",
   "metadata": {},
   "source": [
    "This work has been supported by the Polish National Agency for Academic Exchange under the Strategic Partnerships programme, grant number BPI/PST/2021/1/00069/U/00001."
   ]
  },
  {
   "cell_type": "code",
   "execution_count": null,
   "id": "94e813c2",
   "metadata": {},
   "outputs": [],
   "source": []
  }
 ],
 "metadata": {
  "kernelspec": {
   "display_name": "Python 3 (ipykernel)",
   "language": "python",
   "name": "python3"
  },
  "language_info": {
   "codemirror_mode": {
    "name": "ipython",
    "version": 3
   },
   "file_extension": ".py",
   "mimetype": "text/x-python",
   "name": "python",
   "nbconvert_exporter": "python",
   "pygments_lexer": "ipython3",
   "version": "3.9.6"
  }
 },
 "nbformat": 4,
 "nbformat_minor": 5
}
